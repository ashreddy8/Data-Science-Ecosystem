{
 "cells": [
  {
   "cell_type": "markdown",
   "id": "17d5c379-774d-48e2-9b58-3e20254efddd",
   "metadata": {},
   "source": [
    "# Data Science Tools and Ecosystem"
   ]
  },
  {
   "cell_type": "markdown",
   "id": "1d6d68ea-6c98-4168-9f02-6bd21740e418",
   "metadata": {},
   "source": [
    "In this notebook, Data Science Tools and Ecosystem are summarized."
   ]
  },
  {
   "cell_type": "markdown",
   "id": "f1384595-4923-410f-9ad9-a892cf92a7b1",
   "metadata": {},
   "source": [
    "**Objectives:**\n",
    "* Python\n",
    "* R\n",
    "* SQL\n",
    "* Julia\n",
    "* Scala\n",
    "* Java"
   ]
  },
  {
   "cell_type": "markdown",
   "id": "bb49be0e-f5b3-4b80-80ed-735debc9cff3",
   "metadata": {},
   "source": [
    "Some of the popular languages that Data Scientists use are:\n",
    "1. Python\n",
    "2. R\n",
    "3. SQL\n",
    "4. Java"
   ]
  },
  {
   "cell_type": "markdown",
   "id": "77dcdce3-07df-4cb7-8220-20e6f9b5ed48",
   "metadata": {},
   "source": [
    "Some of the commonly used libraries used by Data Scientists include:\n",
    "1. NLTK\n",
    "2. TextBlob\n",
    "3. spaCy"
   ]
  },
  {
   "cell_type": "markdown",
   "id": "cd383e7e-d0f9-4d7e-9129-f83c686c592e",
   "metadata": {},
   "source": [
    "|Data Science Tools|\n",
    "|------------------|\n",
    "|Jupyter Notebook|\n",
    "|RStudio|\n",
    "|VisualStudio Code|"
   ]
  },
  {
   "cell_type": "markdown",
   "id": "81e1a548-b021-44bd-8d84-ac09e78c2c21",
   "metadata": {},
   "source": [
    "### Below are a few examples of evaluating arithmetic expressions in Python"
   ]
  },
  {
   "cell_type": "code",
   "execution_count": 5,
   "id": "5df437e6-edbb-4829-a81c-b6fc9164c7cd",
   "metadata": {},
   "outputs": [
    {
     "name": "stdout",
     "output_type": "stream",
     "text": [
      "17\n"
     ]
    }
   ],
   "source": [
    "#This a simple arithmetic expression to mutiply then add integers\n",
    "a=(3*4)+5\n",
    "print(a)"
   ]
  },
  {
   "cell_type": "code",
   "execution_count": 6,
   "id": "28d833ce-0116-4cfb-b5fb-7c49b024d50b",
   "metadata": {},
   "outputs": [
    {
     "name": "stdout",
     "output_type": "stream",
     "text": [
      "200 minutes = 3 hours and 20 minutes\n"
     ]
    }
   ],
   "source": [
    "#This will convert 200 minutes to hours by diving by 60\n",
    "t=200\n",
    "h=200//60\n",
    "m=200%60\n",
    "print(f\"200 minutes = {h} hours and {m} minutes\")"
   ]
  },
  {
   "cell_type": "markdown",
   "id": "41079e68-72be-4ce8-8b6b-6bfe05021532",
   "metadata": {},
   "source": [
    "## Author\n",
    "Ashrith Reddy"
   ]
  }
 ],
 "metadata": {
  "kernelspec": {
   "display_name": "Python 3 (ipykernel)",
   "language": "python",
   "name": "python3"
  },
  "language_info": {
   "codemirror_mode": {
    "name": "ipython",
    "version": 3
   },
   "file_extension": ".py",
   "mimetype": "text/x-python",
   "name": "python",
   "nbconvert_exporter": "python",
   "pygments_lexer": "ipython3",
   "version": "3.12.5"
  }
 },
 "nbformat": 4,
 "nbformat_minor": 5
}
